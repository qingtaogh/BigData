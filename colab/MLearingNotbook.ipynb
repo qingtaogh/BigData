{
  "nbformat": 4,
  "nbformat_minor": 0,
  "metadata": {
    "colab": {
      "provenance": [],
      "include_colab_link": true
    },
    "kernelspec": {
      "name": "python3",
      "display_name": "Python 3"
    },
    "language_info": {
      "name": "python"
    }
  },
  "cells": [
    {
      "cell_type": "markdown",
      "metadata": {
        "id": "view-in-github",
        "colab_type": "text"
      },
      "source": [
        "<a href=\"https://colab.research.google.com/github/qingtaogh/BigData/blob/main/colab/MLearingNotbook.ipynb\" target=\"_parent\"><img src=\"https://colab.research.google.com/assets/colab-badge.svg\" alt=\"Open In Colab\"/></a>"
      ]
    },
    {
      "cell_type": "markdown",
      "source": [
        "# ML Case study"
      ],
      "metadata": {
        "id": "532fZGbMcW_k"
      }
    },
    {
      "cell_type": "code",
      "source": [
        "\n",
        "# install pyspark using pip\n",
        "!pip install --ignore-install -q pyspark\n",
        "# install findspark using pip\n",
        "!pip install --ignore-install -q findspark\n"
      ],
      "metadata": {
        "id": "mlQOEpqIccu8",
        "collapsed": true,
        "outputId": "ce3cd500-fe1f-416b-e7fe-fdc9b4ea9494",
        "colab": {
          "base_uri": "https://localhost:8080/"
        }
      },
      "execution_count": 24,
      "outputs": [
        {
          "output_type": "stream",
          "name": "stdout",
          "text": [
            "\u001b[2K     \u001b[90m━━━━━━━━━━━━━━━━━━━━━━━━━━━━━━━━━━━━━━━━\u001b[0m \u001b[32m317.3/317.3 MB\u001b[0m \u001b[31m1.4 MB/s\u001b[0m eta \u001b[36m0:00:00\u001b[0m\n",
            "\u001b[?25h  Preparing metadata (setup.py) ... \u001b[?25l\u001b[?25hdone\n",
            "  Building wheel for pyspark (setup.py) ... \u001b[?25l\u001b[?25hdone\n"
          ]
        }
      ]
    },
    {
      "cell_type": "code",
      "source": [
        "result = 8 ** 4\n",
        "print(result)"
      ],
      "metadata": {
        "id": "U8qXSwWhlRmX",
        "outputId": "1e09e723-d9e2-49d9-c77a-b26fa47058b7",
        "colab": {
          "base_uri": "https://localhost:8080/"
        }
      },
      "execution_count": 1,
      "outputs": [
        {
          "output_type": "stream",
          "name": "stdout",
          "text": [
            "4096\n"
          ]
        }
      ]
    },
    {
      "cell_type": "code",
      "source": [
        "\n",
        "print(\"Split this string\".split())"
      ],
      "metadata": {
        "id": "GgOpW60e_rNq",
        "outputId": "ae31c477-39c8-45d6-f100-1b93ded3109a",
        "colab": {
          "base_uri": "https://localhost:8080/"
        }
      },
      "execution_count": 3,
      "outputs": [
        {
          "output_type": "stream",
          "name": "stdout",
          "text": [
            "['Split', 'this', 'string']\n"
          ]
        }
      ]
    },
    {
      "cell_type": "code",
      "source": [
        "planet = \"Earth\"\n",
        "diameter = 12742\n",
        "\n",
        "output = \"The diameter of {} is {} kilometers.\".format(planet, diameter)\n",
        "print(output)"
      ],
      "metadata": {
        "id": "hjJI70rlADmw",
        "outputId": "9f01f89e-24a3-4ba0-b193-ff5e2cf498a6",
        "colab": {
          "base_uri": "https://localhost:8080/"
        }
      },
      "execution_count": 4,
      "outputs": [
        {
          "output_type": "stream",
          "name": "stdout",
          "text": [
            "The diameter of Earth is 12742 kilometers.\n"
          ]
        }
      ]
    },
    {
      "cell_type": "code",
      "source": [
        "the_list = [1, 2, [3, 4], [5, [100, 200, ['target']], 23, 11], 1, 7]\n",
        "\n",
        "result = the_list[3][1][2][0]\n",
        "print(result)"
      ],
      "metadata": {
        "id": "a8yujh2CAaCZ",
        "outputId": "cac66c1d-d6a7-4463-bbcb-a7c144b4168b",
        "colab": {
          "base_uri": "https://localhost:8080/"
        }
      },
      "execution_count": 6,
      "outputs": [
        {
          "output_type": "stream",
          "name": "stdout",
          "text": [
            "target\n"
          ]
        }
      ]
    },
    {
      "cell_type": "code",
      "source": [
        "the_dic = {\n",
        "    'k1': [1, 2, 3,\n",
        "          {'tricky': ['oh', 'man', 'inception',\n",
        "                      {'target': [1, 2, 3, 'hello']}\n",
        "                    ]\n",
        "          }\n",
        "    ]\n",
        "}\n",
        "\n",
        "\n",
        "word = the_dic['k1'][3]['tricky'][3]['target'][3]\n",
        "print(word)"
      ],
      "metadata": {
        "id": "nTPNgrAVA3Of",
        "outputId": "230c3c4e-efe1-412a-8962-50e2b2a84c14",
        "colab": {
          "base_uri": "https://localhost:8080/"
        }
      },
      "execution_count": 7,
      "outputs": [
        {
          "output_type": "stream",
          "name": "stdout",
          "text": [
            "hello\n"
          ]
        }
      ]
    },
    {
      "cell_type": "code",
      "source": [
        "def contains_elephant(input_string):\n",
        "    return 'elephant' in input_string.lower()\n",
        "\n",
        "test_string = \"I saw an Elephant. today.\"\n",
        "result = contains_elephant(test_string)\n",
        "print(result)"
      ],
      "metadata": {
        "id": "TF2eJL9bCM6p",
        "outputId": "2fa9cfda-abf2-4615-94e0-624607e151bc",
        "colab": {
          "base_uri": "https://localhost:8080/"
        }
      },
      "execution_count": 20,
      "outputs": [
        {
          "output_type": "stream",
          "name": "stdout",
          "text": [
            "True\n"
          ]
        }
      ]
    },
    {
      "cell_type": "code",
      "source": [
        "import re\n",
        "def count_elephants(input_string):\n",
        "\n",
        "    words = re.split(r'[ .]+', input_string)\n",
        "    count = words.count('elephant')\n",
        "    return count\n",
        "\n",
        "test_string = \"I saw an elephant and another elephant.\"\n",
        "\n",
        "print(count_elephants(test_string))\n"
      ],
      "metadata": {
        "id": "gNA_5h_9DPiU",
        "outputId": "e3d610b8-249c-4aee-b6e1-555ded1dddca",
        "colab": {
          "base_uri": "https://localhost:8080/"
        }
      },
      "execution_count": 21,
      "outputs": [
        {
          "output_type": "stream",
          "name": "stdout",
          "text": [
            "2\n"
          ]
        }
      ]
    },
    {
      "cell_type": "code",
      "source": [
        "def speed_category(speed, is_birthday):\n",
        "\n",
        "    if is_birthday:\n",
        "        speed += 5\n",
        "\n",
        "\n",
        "    if speed <= 60:\n",
        "        return \"Low speed\"\n",
        "    elif 61 <= speed <= 80:\n",
        "        return \"Medium speed\"\n",
        "    else:\n",
        "        return \"Fast speed\"\n",
        "\n",
        "\n",
        "print(speed_category(60, False))\n",
        "print(speed_category(65, False))\n",
        "print(speed_category(81, False))\n",
        "print(speed_category(60, True))\n",
        "print(speed_category(80, True))"
      ],
      "metadata": {
        "id": "Fl0OVmTPFQgE",
        "outputId": "40ff05fb-50f3-49f3-e885-dc7f7bebd23e",
        "colab": {
          "base_uri": "https://localhost:8080/"
        }
      },
      "execution_count": 22,
      "outputs": [
        {
          "output_type": "stream",
          "name": "stdout",
          "text": [
            "Low speed\n",
            "Medium speed\n",
            "Fast speed\n",
            "Medium speed\n",
            "Fast speed\n"
          ]
        }
      ]
    },
    {
      "cell_type": "code",
      "source": [
        "from pyspark.sql import SparkSession\n",
        "\n",
        "# Initialize Spark Session\n",
        "spark = SparkSession.builder \\\n",
        "    .appName(\"Employee Data\") \\\n",
        "    .getOrCreate()\n",
        "\n",
        "# Define the data\n",
        "data = [\n",
        "    (\"James\", \"Sales\", \"SG\", 70000, 34, 10000),\n",
        "    (\"Michael\", \"Sales\", \"SG\", 66000, 56, 20000),\n",
        "    (\"Robert\", \"Sales\", \"MY\", 61000, 30, 23000),\n",
        "    (\"Maria\", \"Finance\", \"MY\", 60000, 24, 23000),\n",
        "    (\"Raman\", \"Finance\", \"USA\", 79000, 40, 24000),\n",
        "    (\"Scott\", \"Finance\", \"USA\", 63000, 36, 19000),\n",
        "    (\"Jen\", \"Finance\", \"UK\", 89000, 53, 15000),\n",
        "    (\"Jeff\", \"Marketing\", \"UK\", 70000, 25, 18000),\n",
        "    (\"Alice\", \"Marketing\", \"UK\", 78000, 50, 21000),\n",
        "    (\"Ada\", \"IT\", \"SG\", 83000, 35, 11000),\n",
        "    (\"Jackson\", \"IT\", \"MY\", 71000, 30, 21000),\n",
        "    (\"Cooper\", \"IT\", \"UK\", 91000, 40, 21000)\n",
        "]\n",
        "\n",
        "# Define the schema (column names)\n",
        "columns = [\"employee_name\", \"department\", \"country\", \"salary\", \"age\", \"bonus\"]\n",
        "\n",
        "# Create the DataFrame\n",
        "df = spark.createDataFrame(data, schema=columns)\n",
        "\n",
        "# Show the DataFrame\n",
        "df.show()\n",
        "\n",
        "df.printSchema()\n",
        "\n",
        "df.describe(\"salary\", \"age\", \"bonus\").show()"
      ],
      "metadata": {
        "collapsed": true,
        "id": "tLdD8mSPGlS2",
        "outputId": "9ba74a5c-7b96-4531-9b4c-e35290f07737",
        "colab": {
          "base_uri": "https://localhost:8080/"
        }
      },
      "execution_count": 31,
      "outputs": [
        {
          "output_type": "stream",
          "name": "stdout",
          "text": [
            "+-------------+----------+-------+------+---+-----+\n",
            "|employee_name|department|country|salary|age|bonus|\n",
            "+-------------+----------+-------+------+---+-----+\n",
            "|        James|     Sales|     SG| 70000| 34|10000|\n",
            "|      Michael|     Sales|     SG| 66000| 56|20000|\n",
            "|       Robert|     Sales|     MY| 61000| 30|23000|\n",
            "|        Maria|   Finance|     MY| 60000| 24|23000|\n",
            "|        Raman|   Finance|    USA| 79000| 40|24000|\n",
            "|        Scott|   Finance|    USA| 63000| 36|19000|\n",
            "|          Jen|   Finance|     UK| 89000| 53|15000|\n",
            "|         Jeff| Marketing|     UK| 70000| 25|18000|\n",
            "|        Alice| Marketing|     UK| 78000| 50|21000|\n",
            "|          Ada|        IT|     SG| 83000| 35|11000|\n",
            "|      Jackson|        IT|     MY| 71000| 30|21000|\n",
            "|       Cooper|        IT|     UK| 91000| 40|21000|\n",
            "+-------------+----------+-------+------+---+-----+\n",
            "\n",
            "root\n",
            " |-- employee_name: string (nullable = true)\n",
            " |-- department: string (nullable = true)\n",
            " |-- country: string (nullable = true)\n",
            " |-- salary: long (nullable = true)\n",
            " |-- age: long (nullable = true)\n",
            " |-- bonus: long (nullable = true)\n",
            "\n",
            "+-------+------------------+------------------+------------------+\n",
            "|summary|            salary|               age|             bonus|\n",
            "+-------+------------------+------------------+------------------+\n",
            "|  count|                12|                12|                12|\n",
            "|   mean| 73416.66666666667|             37.75|18833.333333333332|\n",
            "| stddev|10543.919689766344|10.541045316458723|  4589.18359412718|\n",
            "|    min|             60000|                24|             10000|\n",
            "|    max|             91000|                56|             24000|\n",
            "+-------+------------------+------------------+------------------+\n",
            "\n"
          ]
        }
      ]
    },
    {
      "cell_type": "code",
      "source": [
        "from pyspark.sql import functions as F\n",
        "# Perform groupBy and aggregation\n",
        "aggregated_df = df.groupBy(\"department\").agg(\n",
        "    F.min(\"salary\").alias(\"min_salary\"),\n",
        "    F.max(\"salary\").alias(\"max_salary\"),\n",
        "    F.avg(\"salary\").alias(\"avg_salary\"),\n",
        "    F.sum(\"salary\").alias(\"total_salary\")\n",
        ")\n",
        "\n",
        "# Show the aggregated results\n",
        "aggregated_df.show()"
      ],
      "metadata": {
        "id": "TowaQi7zH6Vl",
        "outputId": "4db577ed-ecc6-433c-8e7b-d6a224a9b075",
        "colab": {
          "base_uri": "https://localhost:8080/"
        }
      },
      "execution_count": 27,
      "outputs": [
        {
          "output_type": "stream",
          "name": "stdout",
          "text": [
            "+----------+----------+----------+-----------------+------------+\n",
            "|department|min_salary|max_salary|       avg_salary|total_salary|\n",
            "+----------+----------+----------+-----------------+------------+\n",
            "|     Sales|     61000|     70000|65666.66666666667|      197000|\n",
            "|   Finance|     60000|     89000|          72750.0|      291000|\n",
            "| Marketing|     70000|     78000|          74000.0|      148000|\n",
            "|        IT|     71000|     91000|81666.66666666667|      245000|\n",
            "+----------+----------+----------+-----------------+------------+\n",
            "\n"
          ]
        }
      ]
    },
    {
      "cell_type": "code",
      "source": [
        "# Perform groupBy and aggregation by country\n",
        "aggregated_by_country_df = df.groupBy(\"country\").agg(\n",
        "    F.min(\"salary\").alias(\"min_salary\"),\n",
        "    F.max(\"salary\").alias(\"max_salary\"),\n",
        "    F.avg(\"salary\").alias(\"avg_salary\"),\n",
        "    F.sum(\"salary\").alias(\"total_salary\")\n",
        ")\n",
        "\n",
        "# Show the aggregated results\n",
        "aggregated_by_country_df.show()"
      ],
      "metadata": {
        "id": "5-ZSn4cQIURs",
        "outputId": "c4f91993-d39b-4791-c818-2225a05fa376",
        "colab": {
          "base_uri": "https://localhost:8080/"
        }
      },
      "execution_count": 28,
      "outputs": [
        {
          "output_type": "stream",
          "name": "stdout",
          "text": [
            "+-------+----------+----------+----------+------------+\n",
            "|country|min_salary|max_salary|avg_salary|total_salary|\n",
            "+-------+----------+----------+----------+------------+\n",
            "|     MY|     60000|     71000|   64000.0|      192000|\n",
            "|    USA|     63000|     79000|   71000.0|      142000|\n",
            "|     SG|     66000|     83000|   73000.0|      219000|\n",
            "|     UK|     70000|     91000|   82000.0|      328000|\n",
            "+-------+----------+----------+----------+------------+\n",
            "\n"
          ]
        }
      ]
    },
    {
      "cell_type": "code",
      "source": [
        "\n",
        "aggregated_by_age_df = df.groupBy(\"age\").agg(\n",
        "    F.min(\"salary\").alias(\"min_salary\"),\n",
        "    F.max(\"salary\").alias(\"max_salary\"),\n",
        "    F.avg(\"salary\").alias(\"avg_salary\"),\n",
        "    F.sum(\"salary\").alias(\"total_salary\")\n",
        ")\n",
        "\n",
        "\n",
        "aggregated_by_age_df.orderBy(F.desc(\"age\")).show()"
      ],
      "metadata": {
        "id": "2PmtrVmPJw5x",
        "outputId": "1f363eba-03a1-4782-f7bc-537a24335fe6",
        "colab": {
          "base_uri": "https://localhost:8080/"
        }
      },
      "execution_count": 34,
      "outputs": [
        {
          "output_type": "stream",
          "name": "stdout",
          "text": [
            "+---+----------+----------+----------+------------+\n",
            "|age|min_salary|max_salary|avg_salary|total_salary|\n",
            "+---+----------+----------+----------+------------+\n",
            "| 56|     66000|     66000|   66000.0|       66000|\n",
            "| 53|     89000|     89000|   89000.0|       89000|\n",
            "| 50|     78000|     78000|   78000.0|       78000|\n",
            "| 40|     79000|     91000|   85000.0|      170000|\n",
            "| 36|     63000|     63000|   63000.0|       63000|\n",
            "| 35|     83000|     83000|   83000.0|       83000|\n",
            "| 34|     70000|     70000|   70000.0|       70000|\n",
            "| 30|     61000|     71000|   66000.0|      132000|\n",
            "| 25|     70000|     70000|   70000.0|       70000|\n",
            "| 24|     60000|     60000|   60000.0|       60000|\n",
            "+---+----------+----------+----------+------------+\n",
            "\n"
          ]
        }
      ]
    }
  ]
}