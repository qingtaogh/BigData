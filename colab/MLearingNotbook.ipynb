{
  "nbformat": 4,
  "nbformat_minor": 0,
  "metadata": {
    "colab": {
      "provenance": [],
      "include_colab_link": true
    },
    "kernelspec": {
      "name": "python3",
      "display_name": "Python 3"
    },
    "language_info": {
      "name": "python"
    }
  },
  "cells": [
    {
      "cell_type": "markdown",
      "metadata": {
        "id": "view-in-github",
        "colab_type": "text"
      },
      "source": [
        "<a href=\"https://colab.research.google.com/github/qingtaogh/BigData/blob/main/colab/MLearingNotbook.ipynb\" target=\"_parent\"><img src=\"https://colab.research.google.com/assets/colab-badge.svg\" alt=\"Open In Colab\"/></a>"
      ]
    },
    {
      "cell_type": "markdown",
      "source": [
        "# ML Case study"
      ],
      "metadata": {
        "id": "532fZGbMcW_k"
      }
    },
    {
      "cell_type": "code",
      "source": [
        "\n",
        "# install pyspark using pip\n",
        "!pip install --ignore-install -q pyspark\n",
        "# install findspark using pip\n",
        "!pip install --ignore-install -q findspark\n",
        "\n",
        "from pyspark import SparkContext, SparkConf\n",
        "from pyspark.sql import *\n",
        "from pyspark.sql.functions import *\n",
        "from pyspark.sql.types import *\n",
        "spark = SparkSession.builder.master(\"local\").appName(\"Rebu\").getOrCreate()\n",
        "\n",
        "diverdf = ( spark.read\n",
        ".option(\"header\", \"true\")\n",
        ".option(\"inferSchema\", \"true\")\n",
        ".csv(\"BEAD_Rebu_Drivers.csv\") )\n",
        "\n",
        "taxidf = spark.read \\\n",
        ".option(\"multiline\", \"true\") \\\n",
        ".option(\"inferSchema\", \"true\") \\\n",
        ".json(\"BEAD_Rebu_TaxiCabs.json\")\n",
        "\n",
        "tpdf = ( spark.read\n",
        ".option(\"header\", \"true\")\n",
        ".option(\"inferSchema\", \"true\")\n",
        ".csv(\"BEAD_Rebu_TripData.csv\") )\n"
      ],
      "metadata": {
        "id": "mlQOEpqIccu8",
        "collapsed": true
      },
      "execution_count": 77,
      "outputs": []
    },
    {
      "cell_type": "code",
      "source": [],
      "metadata": {
        "id": "U8qXSwWhlRmX"
      },
      "execution_count": null,
      "outputs": []
    }
  ]
}